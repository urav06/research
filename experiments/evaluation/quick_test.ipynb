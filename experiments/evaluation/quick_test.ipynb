{
 "cells": [
  {
   "cell_type": "markdown",
   "metadata": {},
   "source": [
    "# Quick Test: Fixed Ensemble Implementation\n",
    "\n",
    "Testing the fixed ensemble with:\n",
    "- Correct train_pct/test_pct values (0-100 scale)\n",
    "- Stratified K-fold (no class mismatch)\n",
    "- Increased Ridge regularization (less ill-conditioned)\n",
    "- Optimized data flow (fewer conversions)"
   ]
  },
  {
   "cell_type": "code",
   "execution_count": null,
   "metadata": {},
   "outputs": [],
   "source": [
    "# Setup\n",
    "import sys\n",
    "import time\n",
    "import numpy as np\n",
    "\n",
    "sys.path.extend([\n",
    "    '/Users/urav/code/research',\n",
    "    '/Users/urav/code/research/quant/code',\n",
    "    '/Users/urav/code/research/hydra/code',\n",
    "    '/Users/urav/code/research/aaltd2024/code',\n",
    "])\n",
    "\n",
    "from tsckit import (\n",
    "    MonsterDataset,\n",
    "    QuantAALTD2024,\n",
    "    HydraAALTD2024,\n",
    "    HydraQuantStackedAALTD2024,  # Old ensemble\n",
    "    HydraQuantStacked            # New clean ensemble\n",
    ")\n",
    "\n",
    "np.random.seed(42)\n",
    "print(\"✓ Setup complete\")"
   ]
  },
  {
   "cell_type": "code",
   "execution_count": null,
   "metadata": {},
   "outputs": [],
   "source": [
    "# Load dataset with CORRECT percentages (0-100 scale, not 0-1)\n",
    "print(\"Loading Pedestrian dataset...\")\n",
    "dataset = MonsterDataset(\"Pedestrian\", fold=0, train_pct=10.0, test_pct=50.0)  # 10% train, 50% test\n",
    "print(dataset.info())\n",
    "\n",
    "_, y_test = dataset.get_arrays(\"test\")\n",
    "print(f\"Test samples: {len(y_test)}, Classes: {len(np.unique(y_test))}\")"
   ]
  },
  {
   "cell_type": "code",
   "execution_count": null,
   "metadata": {},
   "outputs": [],
   "source": [
    "# Test individual algorithms first\n",
    "def test_algorithm(algorithm, name):\n",
    "    print(f\"\\n🔄 Testing {name}...\")\n",
    "    start = time.time()\n",
    "    algorithm.fit(dataset)\n",
    "    train_time = time.time() - start\n",
    "    \n",
    "    start = time.time()\n",
    "    predictions = algorithm.predict(dataset)\n",
    "    test_time = time.time() - start\n",
    "    \n",
    "    accuracy = np.mean(predictions == y_test)\n",
    "    print(f\"   ✅ {name}: {accuracy:.4f} accuracy, {train_time:.1f}s train, {test_time:.1f}s test\")\n",
    "    return accuracy\n",
    "\n",
    "# Test baselines\n",
    "quant_acc = test_algorithm(QuantAALTD2024(num_estimators=50), \"QuantAALTD2024\")\n",
    "hydra_acc = test_algorithm(HydraAALTD2024(k=4, g=16, seed=42), \"HydraAALTD2024\")"
   ]
  },
  {
   "cell_type": "code",
   "execution_count": null,
   "metadata": {},
   "outputs": [],
   "source": [
    "# Test old ensemble\n",
    "old_ensemble = HydraQuantStackedAALTD2024(\n",
    "    hydra_k=4, hydra_g=16, hydra_seed=42, quant_estimators=50\n",
    ")\n",
    "old_acc = test_algorithm(old_ensemble, \"OldEnsemble (data leak)\")"
   ]
  },
  {
   "cell_type": "code",
   "execution_count": null,
   "metadata": {},
   "outputs": [],
   "source": [
    "# Test new clean ensemble\n",
    "new_ensemble = HydraQuantStacked(\n",
    "    n_folds=3, hydra_k=4, hydra_g=16, hydra_seed=42, n_estimators=50\n",
    ")\n",
    "new_acc = test_algorithm(new_ensemble, \"NewEnsemble (clean CV)\")"
   ]
  },
  {
   "cell_type": "code",
   "execution_count": null,
   "metadata": {},
   "outputs": [],
   "source": [
    "# Summary comparison\n",
    "print(\"\\n\" + \"=\"*60)\n",
    "print(\"📊 FINAL COMPARISON\")\n",
    "print(\"=\"*60)\n",
    "print(f\"QuantAALTD2024:              {quant_acc:.4f}\")\n",
    "print(f\"HydraAALTD2024:              {hydra_acc:.4f}\")\n",
    "print(f\"Old Ensemble (data leak):    {old_acc:.4f}\")\n",
    "print(f\"New Ensemble (clean CV):     {new_acc:.4f}\")\n",
    "\n",
    "best_individual = max(quant_acc, hydra_acc)\n",
    "print(f\"\\n📈 Ensemble Analysis:\")\n",
    "print(f\"Best individual:             {best_individual:.4f}\")\n",
    "print(f\"Old ensemble improvement:    {old_acc - best_individual:+.4f}\")\n",
    "print(f\"New ensemble improvement:    {new_acc - best_individual:+.4f}\")\n",
    "\n",
    "if new_acc > old_acc:\n",
    "    print(f\"✅ Clean ensemble beats old ensemble by {new_acc - old_acc:.4f}\")\n",
    "elif old_acc > new_acc:\n",
    "    print(f\"⚠️ Old ensemble still ahead by {old_acc - new_acc:.4f} (but has data leakage)\")\n",
    "else:\n",
    "    print(f\"🔄 Both ensembles perform similarly\")\n",
    "\n",
    "print(\"\\n✅ Test complete!\")"
   ]
  }
 ],
 "metadata": {
  "kernelspec": {
   "display_name": "venv",
   "language": "python",
   "name": "python3"
  },
  "language_info": {
   "codemirror_mode": {
    "name": "ipython",
    "version": 3
   },
   "file_extension": ".py",
   "mimetype": "text/x-python",
   "name": "python",
   "nbconvert_exporter": "python",
   "pygments_lexer": "ipython3",
   "version": "3.12.11"
  }
 },
 "nbformat": 4,
 "nbformat_minor": 4
}
