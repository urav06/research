{
 "cells": [
  {
   "cell_type": "markdown",
   "metadata": {},
   "source": [
    "# Simple Model Debugging: Pedestrian Dataset\n",
    "\n",
    "No-frills debugging notebook to test 8 TSC models on pedestrian dataset.\n",
    "- Dataset: Pedestrian (10% training, 50% testing)\n",
    "- Models: All 8 algorithms from tsckit\n",
    "- Error handling: NONE - let errors throw with full stack traces"
   ]
  },
  {
   "cell_type": "code",
   "execution_count": 1,
   "metadata": {},
   "outputs": [
    {
     "name": "stdout",
     "output_type": "stream",
     "text": [
      "✓ Paths configured successfully!\n"
     ]
    }
   ],
   "source": [
    "# Setup paths BEFORE importing tsckit (CRITICAL!)\n",
    "import sys\n",
    "\n",
    "# Add all necessary paths for algorithm imports\n",
    "sys.path.extend([\n",
    "    '/Users/urav/code/research',                    # For tsckit package\n",
    "    '/Users/urav/code/research/quant/code',         # For original quant.py\n",
    "    '/Users/urav/code/research/hydra/code',         # For original hydra.py  \n",
    "    '/Users/urav/code/research/aaltd2024/code',     # For quant_aaltd.py, hydra_gpu.py, utils.py, ridge.py\n",
    "])\n",
    "\n",
    "print(\"✓ Paths configured successfully!\")"
   ]
  },
  {
   "cell_type": "code",
   "execution_count": 2,
   "metadata": {},
   "outputs": [
    {
     "name": "stderr",
     "output_type": "stream",
     "text": [
      "/Users/urav/code/research/venv/lib/python3.12/site-packages/tqdm/auto.py:21: TqdmWarning: IProgress not found. Please update jupyter and ipywidgets. See https://ipywidgets.readthedocs.io/en/stable/user_install.html\n",
      "  from .autonotebook import tqdm as notebook_tqdm\n"
     ]
    },
    {
     "name": "stdout",
     "output_type": "stream",
     "text": [
      "✓ All imports successful!\n"
     ]
    }
   ],
   "source": [
    "# Import TSCKIT and required libraries\n",
    "from tsckit import (\n",
    "    MonsterDataset, \n",
    "    QuantOriginal, QuantAALTD2024,\n",
    "    HydraOriginal, HydraAALTD2024,\n",
    "    AeonAlgorithm\n",
    ")\n",
    "import numpy as np\n",
    "import time\n",
    "\n",
    "print(\"✓ All imports successful!\")"
   ]
  },
  {
   "cell_type": "code",
   "execution_count": 3,
   "metadata": {},
   "outputs": [
    {
     "name": "stdout",
     "output_type": "stream",
     "text": [
      "Dataset created:\n",
      "Pedestrian (fold 0):\n",
      "  Shape: 1 channels x 24 time points\n",
      "  Classes: 82\n",
      "  Total samples: 189621\n",
      "  Train samples: 1516 (1.0%)\n",
      "  Test samples: 379 (1%)\n",
      "\n",
      "Test labels loaded: (379,)\n",
      "Number of classes: 79\n"
     ]
    }
   ],
   "source": [
    "# Create pedestrian dataset: 10% train, 50% test\n",
    "dataset = MonsterDataset(\"Pedestrian\", fold=0, train_pct=1.0, test_pct=1)\n",
    "print(\"Dataset created:\")\n",
    "print(dataset.info())\n",
    "\n",
    "# Load ground truth for later accuracy calculation\n",
    "_, y_test = dataset.get_arrays(\"test\")\n",
    "print(f\"\\nTest labels loaded: {y_test.shape}\")\n",
    "print(f\"Number of classes: {len(np.unique(y_test))}\")"
   ]
  },
  {
   "cell_type": "markdown",
   "metadata": {},
   "source": [
    "## Model 1: QuantOriginal"
   ]
  },
  {
   "cell_type": "code",
   "execution_count": 4,
   "metadata": {},
   "outputs": [
    {
     "name": "stdout",
     "output_type": "stream",
     "text": [
      "Testing QuantOriginal...\n",
      "Model: QuantOriginal(depth=6, div=4)\n",
      "Training completed in 0.375s\n",
      "Prediction completed in 0.035s\n",
      "Accuracy: 0.5488\n",
      "Predictions shape: (379,)\n",
      "✓ QuantOriginal PASSED\n"
     ]
    }
   ],
   "source": [
    "print(\"Testing QuantOriginal...\")\n",
    "model1 = QuantOriginal(depth=6)\n",
    "print(f\"Model: {model1.name}\")\n",
    "\n",
    "start_time = time.time()\n",
    "model1.fit(dataset)\n",
    "train_time = time.time() - start_time\n",
    "print(f\"Training completed in {train_time:.3f}s\")\n",
    "\n",
    "start_time = time.time()\n",
    "predictions1 = model1.predict(dataset)\n",
    "pred_time = time.time() - start_time\n",
    "print(f\"Prediction completed in {pred_time:.3f}s\")\n",
    "\n",
    "accuracy1 = np.mean(predictions1 == y_test)\n",
    "print(f\"Accuracy: {accuracy1:.4f}\")\n",
    "print(f\"Predictions shape: {predictions1.shape}\")\n",
    "print(\"✓ QuantOriginal PASSED\")"
   ]
  },
  {
   "cell_type": "markdown",
   "metadata": {},
   "source": [
    "## Model 2: HydraOriginal"
   ]
  },
  {
   "cell_type": "code",
   "execution_count": 5,
   "metadata": {},
   "outputs": [
    {
     "name": "stdout",
     "output_type": "stream",
     "text": [
      "Testing HydraOriginal...\n",
      "Model: HydraOriginal(k=4, g=16, seed=42)\n",
      "Training completed in 0.175s\n",
      "Prediction completed in 0.022s\n",
      "Accuracy: 0.3799\n",
      "Predictions shape: (379,)\n",
      "✓ HydraOriginal PASSED\n"
     ]
    }
   ],
   "source": [
    "print(\"Testing HydraOriginal...\")\n",
    "model2 = HydraOriginal(k=4, g=16, seed=42)\n",
    "print(f\"Model: {model2.name}\")\n",
    "\n",
    "start_time = time.time()\n",
    "model2.fit(dataset)\n",
    "train_time = time.time() - start_time\n",
    "print(f\"Training completed in {train_time:.3f}s\")\n",
    "\n",
    "start_time = time.time()\n",
    "predictions2 = model2.predict(dataset)\n",
    "pred_time = time.time() - start_time\n",
    "print(f\"Prediction completed in {pred_time:.3f}s\")\n",
    "\n",
    "accuracy2 = np.mean(predictions2 == y_test)\n",
    "print(f\"Accuracy: {accuracy2:.4f}\")\n",
    "print(f\"Predictions shape: {predictions2.shape}\")\n",
    "print(\"✓ HydraOriginal PASSED\")"
   ]
  },
  {
   "cell_type": "markdown",
   "metadata": {},
   "source": [
    "## Model 3: QuantAALTD2024"
   ]
  },
  {
   "cell_type": "code",
   "execution_count": 6,
   "metadata": {},
   "outputs": [
    {
     "name": "stdout",
     "output_type": "stream",
     "text": [
      "Testing QuantAALTD2024...\n",
      "Model: QuantAALTD2024(n_estimators=50)\n",
      "Training completed in 0.096s\n",
      "Prediction completed in 0.019s\n",
      "Accuracy: 0.5092\n",
      "Predictions shape: (379,)\n",
      "✓ QuantAALTD2024 PASSED\n"
     ]
    }
   ],
   "source": [
    "print(\"Testing QuantAALTD2024...\")\n",
    "model3 = QuantAALTD2024(num_estimators=50)\n",
    "print(f\"Model: {model3.name}\")\n",
    "\n",
    "start_time = time.time()\n",
    "model3.fit(dataset)\n",
    "train_time = time.time() - start_time\n",
    "print(f\"Training completed in {train_time:.3f}s\")\n",
    "\n",
    "start_time = time.time()\n",
    "predictions3 = model3.predict(dataset)\n",
    "pred_time = time.time() - start_time\n",
    "print(f\"Prediction completed in {pred_time:.3f}s\")\n",
    "accuracy3 = np.mean(predictions3 == y_test)\n",
    "print(f\"Accuracy: {accuracy3:.4f}\")\n",
    "print(f\"Predictions shape: {predictions3.shape}\")\n",
    "print(\"✓ QuantAALTD2024 PASSED\")"
   ]
  },
  {
   "cell_type": "markdown",
   "metadata": {},
   "source": [
    "## Model 4: HydraAALTD2024"
   ]
  },
  {
   "cell_type": "code",
   "execution_count": 7,
   "metadata": {},
   "outputs": [
    {
     "name": "stdout",
     "output_type": "stream",
     "text": [
      "Testing HydraAALTD2024...\n",
      "Model: HydraAALTD2024(k=4, g=16, seed=42)\n",
      "Training completed in 0.090s\n",
      "Prediction completed in 0.015s\n",
      "Accuracy: 0.3509\n",
      "Predictions shape: (379,)\n",
      "✓ HydraAALTD2024 PASSED\n"
     ]
    }
   ],
   "source": [
    "print(\"Testing HydraAALTD2024...\")\n",
    "model4 = HydraAALTD2024(k=4, g=16, seed=42)\n",
    "print(f\"Model: {model4.name}\")\n",
    "\n",
    "start_time = time.time()\n",
    "model4.fit(dataset)\n",
    "train_time = time.time() - start_time\n",
    "print(f\"Training completed in {train_time:.3f}s\")\n",
    "\n",
    "start_time = time.time()\n",
    "predictions4 = model4.predict(dataset)\n",
    "pred_time = time.time() - start_time\n",
    "print(f\"Prediction completed in {pred_time:.3f}s\")\n",
    "accuracy4 = np.mean(predictions4 == y_test)\n",
    "print(f\"Accuracy: {accuracy4:.4f}\")\n",
    "print(f\"Predictions shape: {predictions4.shape}\")\n",
    "print(\"✓ HydraAALTD2024 PASSED\")"
   ]
  },
  {
   "cell_type": "markdown",
   "metadata": {},
   "source": [
    "## Model 5: AeonHydra"
   ]
  },
  {
   "cell_type": "code",
   "execution_count": 8,
   "metadata": {},
   "outputs": [
    {
     "name": "stdout",
     "output_type": "stream",
     "text": [
      "Testing AeonHydra...\n",
      "Model: AeonHydra(n_kernels=4,n_groups=16)\n",
      "Training completed in 0.119s\n",
      "Prediction completed in 0.031s\n",
      "Accuracy: 0.3641\n",
      "Predictions shape: (379,)\n",
      "✓ AeonHydra PASSED\n"
     ]
    }
   ],
   "source": [
    "print(\"Testing AeonHydra...\")\n",
    "model5 = AeonAlgorithm(algorithm=\"hydra\", n_kernels=4, n_groups=16)\n",
    "print(f\"Model: {model5.name}\")\n",
    "\n",
    "start_time = time.time()\n",
    "model5.fit(dataset)\n",
    "train_time = time.time() - start_time\n",
    "print(f\"Training completed in {train_time:.3f}s\")\n",
    "\n",
    "start_time = time.time()\n",
    "predictions5 = model5.predict(dataset)\n",
    "pred_time = time.time() - start_time\n",
    "print(f\"Prediction completed in {pred_time:.3f}s\")\n",
    "\n",
    "accuracy5 = np.mean(predictions5 == y_test)\n",
    "print(f\"Accuracy: {accuracy5:.4f}\")\n",
    "print(f\"Predictions shape: {predictions5.shape}\")\n",
    "print(\"✓ AeonHydra PASSED\")"
   ]
  },
  {
   "cell_type": "markdown",
   "metadata": {},
   "source": [
    "## Model 6: AeonQuant"
   ]
  },
  {
   "cell_type": "code",
   "execution_count": 9,
   "metadata": {},
   "outputs": [
    {
     "name": "stdout",
     "output_type": "stream",
     "text": [
      "Testing AeonQuant...\n",
      "Model: AeonQuant()\n",
      "Training completed in 1.478s\n",
      "Prediction completed in 0.100s\n",
      "Accuracy: 0.5356\n",
      "Predictions shape: (379,)\n",
      "✓ AeonQuant PASSED\n"
     ]
    }
   ],
   "source": [
    "print(\"Testing AeonQuant...\")\n",
    "model6 = AeonAlgorithm(algorithm=\"quant\")\n",
    "print(f\"Model: {model6.name}\")\n",
    "\n",
    "start_time = time.time()\n",
    "model6.fit(dataset)\n",
    "train_time = time.time() - start_time\n",
    "print(f\"Training completed in {train_time:.3f}s\")\n",
    "\n",
    "start_time = time.time()\n",
    "predictions6 = model6.predict(dataset)\n",
    "pred_time = time.time() - start_time\n",
    "print(f\"Prediction completed in {pred_time:.3f}s\")\n",
    "\n",
    "accuracy6 = np.mean(predictions6 == y_test)\n",
    "print(f\"Accuracy: {accuracy6:.4f}\")\n",
    "print(f\"Predictions shape: {predictions6.shape}\")\n",
    "print(\"✓ AeonQuant PASSED\")"
   ]
  },
  {
   "cell_type": "markdown",
   "metadata": {},
   "source": [
    "## Model 7: AeonRocket"
   ]
  },
  {
   "cell_type": "code",
   "execution_count": 10,
   "metadata": {},
   "outputs": [
    {
     "name": "stdout",
     "output_type": "stream",
     "text": [
      "Testing AeonRocket...\n",
      "Model: AeonRocket(n_kernels=500)\n",
      "Training completed in 0.521s\n",
      "Prediction completed in 0.026s\n",
      "Accuracy: 0.3984\n",
      "Predictions shape: (379,)\n",
      "✓ AeonRocket PASSED\n"
     ]
    }
   ],
   "source": [
    "print(\"Testing AeonRocket...\")\n",
    "model7 = AeonAlgorithm(algorithm=\"rocket\", n_kernels=500)\n",
    "print(f\"Model: {model7.name}\")\n",
    "\n",
    "start_time = time.time()\n",
    "model7.fit(dataset)\n",
    "train_time = time.time() - start_time\n",
    "print(f\"Training completed in {train_time:.3f}s\")\n",
    "\n",
    "start_time = time.time()\n",
    "predictions7 = model7.predict(dataset)\n",
    "pred_time = time.time() - start_time\n",
    "print(f\"Prediction completed in {pred_time:.3f}s\")\n",
    "\n",
    "accuracy7 = np.mean(predictions7 == y_test)\n",
    "print(f\"Accuracy: {accuracy7:.4f}\")\n",
    "print(f\"Predictions shape: {predictions7.shape}\")\n",
    "print(\"✓ AeonRocket PASSED\")"
   ]
  },
  {
   "cell_type": "markdown",
   "metadata": {},
   "source": [
    "## Model 8: AeonMultiRocket"
   ]
  },
  {
   "cell_type": "code",
   "execution_count": 11,
   "metadata": {},
   "outputs": [
    {
     "name": "stdout",
     "output_type": "stream",
     "text": [
      "Testing AeonMultiRocket...\n",
      "Model: AeonMultirocket(n_kernels=100,max_dilations_per_kernel=16)\n",
      "Training completed in 0.174s\n",
      "Prediction completed in 0.015s\n",
      "Accuracy: 0.4142\n",
      "Predictions shape: (379,)\n",
      "✓ AeonMultiRocket PASSED\n"
     ]
    }
   ],
   "source": [
    "print(\"Testing AeonMultiRocket...\")\n",
    "model8 = AeonAlgorithm(algorithm=\"multirocket\", n_kernels=100, max_dilations_per_kernel=16)\n",
    "print(f\"Model: {model8.name}\")\n",
    "\n",
    "start_time = time.time()\n",
    "model8.fit(dataset)\n",
    "train_time = time.time() - start_time\n",
    "print(f\"Training completed in {train_time:.3f}s\")\n",
    "\n",
    "start_time = time.time()\n",
    "predictions8 = model8.predict(dataset)\n",
    "pred_time = time.time() - start_time\n",
    "print(f\"Prediction completed in {pred_time:.3f}s\")\n",
    "\n",
    "accuracy8 = np.mean(predictions8 == y_test)\n",
    "print(f\"Accuracy: {accuracy8:.4f}\")\n",
    "print(f\"Predictions shape: {predictions8.shape}\")\n",
    "print(\"✓ AeonMultiRocket PASSED\")"
   ]
  },
  {
   "cell_type": "markdown",
   "metadata": {},
   "source": [
    "## Summary\n",
    "\n",
    "All 8 models tested on Pedestrian dataset (10% train, 50% test).\n",
    "Any failures will show full stack traces for debugging."
   ]
  }
 ],
 "metadata": {
  "kernelspec": {
   "display_name": "venv",
   "language": "python",
   "name": "python3"
  },
  "language_info": {
   "codemirror_mode": {
    "name": "ipython",
    "version": 3
   },
   "file_extension": ".py",
   "mimetype": "text/x-python",
   "name": "python",
   "nbconvert_exporter": "python",
   "pygments_lexer": "ipython3",
   "version": "3.12.11"
  }
 },
 "nbformat": 4,
 "nbformat_minor": 4
}
